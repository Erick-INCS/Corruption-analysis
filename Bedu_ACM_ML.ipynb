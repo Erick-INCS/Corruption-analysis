{
  "nbformat": 4,
  "nbformat_minor": 0,
  "metadata": {
    "colab": {
      "name": "Bedu-ACM-ML.ipynb",
      "provenance": [],
      "collapsed_sections": [],
      "include_colab_link": true
    },
    "kernelspec": {
      "name": "python3",
      "display_name": "Python 3"
    },
    "language_info": {
      "name": "python"
    }
  },
  "cells": [
    {
      "cell_type": "markdown",
      "metadata": {
        "id": "view-in-github",
        "colab_type": "text"
      },
      "source": [
        "<a href=\"https://colab.research.google.com/github/Erick-INCS/Corruption-analysis/blob/main/Bedu_ACM_ML.ipynb\" target=\"_parent\"><img src=\"https://colab.research.google.com/assets/colab-badge.svg\" alt=\"Open In Colab\"/></a>"
      ]
    },
    {
      "cell_type": "markdown",
      "metadata": {
        "id": "l4U2XAdC2K_N"
      },
      "source": [
        "#### Importacion de las librerias"
      ]
    },
    {
      "cell_type": "code",
      "metadata": {
        "id": "VvaKmaZQfyhg"
      },
      "source": [
        "import numpy as np\n",
        "import pandas as pd\n",
        "import matplotlib.pyplot as plt\n",
        "import seaborn as sns\n",
        "import re\n",
        "from scipy import stats\n",
        "from seaborn import kdeplot\n",
        "from sklearn.metrics import roc_curve, auc\n",
        "from sklearn import metrics\n",
        "from sklearn.linear_model import LogisticRegression\n",
        "from sklearn.model_selection import train_test_split\n",
        "from sklearn.decomposition import PCA\n",
        "from sklearn.preprocessing import StandardScaler\n",
        "from sklearn.cluster import KMeans"
      ],
      "execution_count": 2,
      "outputs": []
    },
    {
      "cell_type": "code",
      "metadata": {
        "id": "6XlTmHx_lQJJ"
      },
      "source": [
        "# Load utils file\n",
        "from requests import get\n",
        "from pathlib import Path\n",
        "\n",
        "ufile_name = 'project_utils.py'\n",
        "\n",
        "if not Path(ufile_name).exists():\n",
        "  utils_file = get('https://raw.githubusercontent.com/Erick-INCS/Corruption-analysis/main/utils/project_utils.py')\n",
        "  utils_file = utils_file.text\n",
        "\n",
        "  with open(ufile_name, 'wt') as utils_file_content:\n",
        "    utils_file_content.write(utils_file)\n",
        "\n",
        "from project_utils import (\n",
        "    get_money, get_ds_asf, describe_chido, renom_estados,\n",
        "    get_ds_pres_presi)"
      ],
      "execution_count": 3,
      "outputs": []
    },
    {
      "cell_type": "markdown",
      "metadata": {
        "id": "zTcE8h-S2g9A"
      },
      "source": [
        "#### Datos del presupuesto"
      ]
    },
    {
      "cell_type": "code",
      "metadata": {
        "colab": {
          "base_uri": "https://localhost:8080/",
          "height": 315
        },
        "id": "VLV2CYeAj0HO",
        "outputId": "a911b8fe-6cc7-4325-a9e2-78978bddb108"
      },
      "source": [
        "df_pres = get_ds_pres_presi()\n",
        "df_pres.head(3)"
      ],
      "execution_count": 5,
      "outputs": [
        {
          "output_type": "execute_result",
          "data": {
            "text/html": [
              "<div>\n",
              "<style scoped>\n",
              "    .dataframe tbody tr th:only-of-type {\n",
              "        vertical-align: middle;\n",
              "    }\n",
              "\n",
              "    .dataframe tbody tr th {\n",
              "        vertical-align: top;\n",
              "    }\n",
              "\n",
              "    .dataframe thead th {\n",
              "        text-align: right;\n",
              "    }\n",
              "</style>\n",
              "<table border=\"1\" class=\"dataframe\">\n",
              "  <thead>\n",
              "    <tr style=\"text-align: right;\">\n",
              "      <th></th>\n",
              "      <th>CICLO_RECURSO</th>\n",
              "      <th>PROGRAMA_FONDO_CONVENIO_ESPECIFICO</th>\n",
              "      <th>DESC_PARTIDA_GENERICA</th>\n",
              "      <th>DESC_TIPO_GASTO</th>\n",
              "      <th>ID_RAMO</th>\n",
              "      <th>MONTO_RECAUDADO</th>\n",
              "      <th>TRIMESTRE</th>\n",
              "      <th>MONTO_APROBADO</th>\n",
              "      <th>ID_PARTIDA_GENERICA</th>\n",
              "      <th>MONTO_EJERCIDO</th>\n",
              "      <th>MONTO_PAGADO</th>\n",
              "      <th>MONTO_DEVENGADO</th>\n",
              "      <th>MONTO_COMPROMETIDO</th>\n",
              "      <th>MONTO_MODIFICADO</th>\n",
              "      <th>TIPO_RECURSO</th>\n",
              "      <th>CICLO</th>\n",
              "      <th>DESC_RAMO</th>\n",
              "      <th>ENTIDAD_FEDERATIVA</th>\n",
              "      <th>MUNICIPIO</th>\n",
              "      <th>INSTITUCION_EJECUTORA</th>\n",
              "      <th>es_peña</th>\n",
              "    </tr>\n",
              "  </thead>\n",
              "  <tbody>\n",
              "    <tr>\n",
              "      <th>122</th>\n",
              "      <td>2013</td>\n",
              "      <td>SIN IDENTIFICAR</td>\n",
              "      <td>Honorarios asimilables a salarios</td>\n",
              "      <td>Gasto corriente</td>\n",
              "      <td>12</td>\n",
              "      <td>14344718.31</td>\n",
              "      <td>1</td>\n",
              "      <td>14363368.9</td>\n",
              "      <td>121</td>\n",
              "      <td>14344718.31</td>\n",
              "      <td>14344718.31</td>\n",
              "      <td>14344718.31</td>\n",
              "      <td>14344718.31</td>\n",
              "      <td>14344718.31</td>\n",
              "      <td>FEDERALES (APORTACIONES, SUBSIDIOS Y CONVENIOS)</td>\n",
              "      <td>2017</td>\n",
              "      <td>Salud</td>\n",
              "      <td>Aguascalientes</td>\n",
              "      <td>Gobierno de la Entidad</td>\n",
              "      <td>INSTITUTO DE SERVICIOS DE SALUD DEL EDO DE AGU...</td>\n",
              "      <td>True</td>\n",
              "    </tr>\n",
              "    <tr>\n",
              "      <th>123</th>\n",
              "      <td>2013</td>\n",
              "      <td>SIN IDENTIFICAR</td>\n",
              "      <td>Materiales, útiles y equipos menores de oficina</td>\n",
              "      <td>Gasto corriente</td>\n",
              "      <td>12</td>\n",
              "      <td>44368.34</td>\n",
              "      <td>1</td>\n",
              "      <td>25704.7</td>\n",
              "      <td>211</td>\n",
              "      <td>22046.23</td>\n",
              "      <td>22046.23</td>\n",
              "      <td>22046.23</td>\n",
              "      <td>22046.23</td>\n",
              "      <td>44368.34</td>\n",
              "      <td>FEDERALES (APORTACIONES, SUBSIDIOS Y CONVENIOS)</td>\n",
              "      <td>2017</td>\n",
              "      <td>Salud</td>\n",
              "      <td>Aguascalientes</td>\n",
              "      <td>Gobierno de la Entidad</td>\n",
              "      <td>INSTITUTO DE SERVICIOS DE SALUD DEL EDO DE AGU...</td>\n",
              "      <td>True</td>\n",
              "    </tr>\n",
              "    <tr>\n",
              "      <th>124</th>\n",
              "      <td>2013</td>\n",
              "      <td>SIN IDENTIFICAR</td>\n",
              "      <td>Materiales y útiles de impresión y reproducción</td>\n",
              "      <td>Gasto corriente</td>\n",
              "      <td>12</td>\n",
              "      <td>15080.00</td>\n",
              "      <td>1</td>\n",
              "      <td>150000.0</td>\n",
              "      <td>212</td>\n",
              "      <td>15080.00</td>\n",
              "      <td>15080.00</td>\n",
              "      <td>15080.00</td>\n",
              "      <td>15080.00</td>\n",
              "      <td>15080.00</td>\n",
              "      <td>FEDERALES (APORTACIONES, SUBSIDIOS Y CONVENIOS)</td>\n",
              "      <td>2017</td>\n",
              "      <td>Salud</td>\n",
              "      <td>Aguascalientes</td>\n",
              "      <td>Gobierno de la Entidad</td>\n",
              "      <td>INSTITUTO DE SERVICIOS DE SALUD DEL EDO DE AGU...</td>\n",
              "      <td>True</td>\n",
              "    </tr>\n",
              "  </tbody>\n",
              "</table>\n",
              "</div>"
            ],
            "text/plain": [
              "     CICLO_RECURSO  ... es_peña\n",
              "122           2013  ...    True\n",
              "123           2013  ...    True\n",
              "124           2013  ...    True\n",
              "\n",
              "[3 rows x 21 columns]"
            ]
          },
          "metadata": {},
          "execution_count": 5
        }
      ]
    },
    {
      "cell_type": "markdown",
      "metadata": {
        "id": "WYJ5nRExJfxW"
      },
      "source": [
        "### Datos para la clusterizacion"
      ]
    },
    {
      "cell_type": "code",
      "metadata": {
        "colab": {
          "base_uri": "https://localhost:8080/",
          "height": 255
        },
        "id": "ecOgodugRJYp",
        "outputId": "b8a9b8d3-6743-42d8-fce7-073f02bedcbf"
      },
      "source": [
        "ds_random_forest = pd.read_csv('https://raw.githubusercontent.com/Erick-INCS/Corruption-analysis/main/datasets/ds_ml.csv', index_col=0)\n",
        "print(\"Shape:\", ds_random_forest.shape)\n",
        "ds_random_forest.head()"
      ],
      "execution_count": 6,
      "outputs": [
        {
          "output_type": "stream",
          "name": "stdout",
          "text": [
            "Shape: (7287, 15)\n"
          ]
        },
        {
          "output_type": "execute_result",
          "data": {
            "text/html": [
              "<div>\n",
              "<style scoped>\n",
              "    .dataframe tbody tr th:only-of-type {\n",
              "        vertical-align: middle;\n",
              "    }\n",
              "\n",
              "    .dataframe tbody tr th {\n",
              "        vertical-align: top;\n",
              "    }\n",
              "\n",
              "    .dataframe thead th {\n",
              "        text-align: right;\n",
              "    }\n",
              "</style>\n",
              "<table border=\"1\" class=\"dataframe\">\n",
              "  <thead>\n",
              "    <tr style=\"text-align: right;\">\n",
              "      <th></th>\n",
              "      <th>Número</th>\n",
              "      <th>Año Cuenta Pública</th>\n",
              "      <th>Espacio público</th>\n",
              "      <th>Densidad poblacional</th>\n",
              "      <th>Tratamiento de aguas residuales</th>\n",
              "      <th>Tasa de homicidios</th>\n",
              "      <th>Superﬁcie destinada a vías</th>\n",
              "      <th>Participación electoral</th>\n",
              "      <th>MONTO_MODIFICADO</th>\n",
              "      <th>MONTO_COMPROMETIDO</th>\n",
              "      <th>MONTO_PAGADO</th>\n",
              "      <th>MONTO_EJERCIDO</th>\n",
              "      <th>MONTO_APROBADO</th>\n",
              "      <th>es_peña</th>\n",
              "      <th>desaparecido_bool</th>\n",
              "    </tr>\n",
              "  </thead>\n",
              "  <tbody>\n",
              "    <tr>\n",
              "      <th>0</th>\n",
              "      <td>9</td>\n",
              "      <td>2019</td>\n",
              "      <td>70.375625</td>\n",
              "      <td>89.311875</td>\n",
              "      <td>8.875</td>\n",
              "      <td>63.246875</td>\n",
              "      <td>67.298125</td>\n",
              "      <td>66.135625</td>\n",
              "      <td>1.317958e+11</td>\n",
              "      <td>8.079752e+10</td>\n",
              "      <td>6.519077e+10</td>\n",
              "      <td>6.545253e+10</td>\n",
              "      <td>1.134605e+11</td>\n",
              "      <td>False</td>\n",
              "      <td>False</td>\n",
              "    </tr>\n",
              "    <tr>\n",
              "      <th>1</th>\n",
              "      <td>18</td>\n",
              "      <td>2018</td>\n",
              "      <td>70.375625</td>\n",
              "      <td>89.311875</td>\n",
              "      <td>8.875</td>\n",
              "      <td>63.246875</td>\n",
              "      <td>67.298125</td>\n",
              "      <td>66.135625</td>\n",
              "      <td>3.356626e+10</td>\n",
              "      <td>2.884014e+10</td>\n",
              "      <td>2.789264e+10</td>\n",
              "      <td>2.791548e+10</td>\n",
              "      <td>2.411451e+10</td>\n",
              "      <td>True</td>\n",
              "      <td>False</td>\n",
              "    </tr>\n",
              "    <tr>\n",
              "      <th>2</th>\n",
              "      <td>18</td>\n",
              "      <td>2019</td>\n",
              "      <td>70.375625</td>\n",
              "      <td>89.311875</td>\n",
              "      <td>8.875</td>\n",
              "      <td>63.246875</td>\n",
              "      <td>67.298125</td>\n",
              "      <td>66.135625</td>\n",
              "      <td>1.317958e+11</td>\n",
              "      <td>8.079752e+10</td>\n",
              "      <td>6.519077e+10</td>\n",
              "      <td>6.545253e+10</td>\n",
              "      <td>1.134605e+11</td>\n",
              "      <td>False</td>\n",
              "      <td>False</td>\n",
              "    </tr>\n",
              "    <tr>\n",
              "      <th>3</th>\n",
              "      <td>19</td>\n",
              "      <td>2019</td>\n",
              "      <td>70.375625</td>\n",
              "      <td>89.311875</td>\n",
              "      <td>8.875</td>\n",
              "      <td>63.246875</td>\n",
              "      <td>67.298125</td>\n",
              "      <td>66.135625</td>\n",
              "      <td>1.317958e+11</td>\n",
              "      <td>8.079752e+10</td>\n",
              "      <td>6.519077e+10</td>\n",
              "      <td>6.545253e+10</td>\n",
              "      <td>1.134605e+11</td>\n",
              "      <td>False</td>\n",
              "      <td>False</td>\n",
              "    </tr>\n",
              "    <tr>\n",
              "      <th>4</th>\n",
              "      <td>22</td>\n",
              "      <td>2019</td>\n",
              "      <td>70.375625</td>\n",
              "      <td>89.311875</td>\n",
              "      <td>8.875</td>\n",
              "      <td>63.246875</td>\n",
              "      <td>67.298125</td>\n",
              "      <td>66.135625</td>\n",
              "      <td>1.317958e+11</td>\n",
              "      <td>8.079752e+10</td>\n",
              "      <td>6.519077e+10</td>\n",
              "      <td>6.545253e+10</td>\n",
              "      <td>1.134605e+11</td>\n",
              "      <td>False</td>\n",
              "      <td>False</td>\n",
              "    </tr>\n",
              "  </tbody>\n",
              "</table>\n",
              "</div>"
            ],
            "text/plain": [
              "   Número  Año Cuenta Pública  ...  es_peña  desaparecido_bool\n",
              "0       9                2019  ...    False              False\n",
              "1      18                2018  ...     True              False\n",
              "2      18                2019  ...    False              False\n",
              "3      19                2019  ...    False              False\n",
              "4      22                2019  ...    False              False\n",
              "\n",
              "[5 rows x 15 columns]"
            ]
          },
          "metadata": {},
          "execution_count": 6
        }
      ]
    },
    {
      "cell_type": "code",
      "metadata": {
        "id": "OMkFD2KwLt0n"
      },
      "source": [
        "std_scaler= StandardScaler()\n",
        "data_cluster = ds_random_forest.drop(columns= ['Número','Año Cuenta Pública','es_peña','desaparecido_bool'])\n",
        "data_cluster[data_cluster.columns] =std_scaler.fit_transform(data_cluster)\n",
        "\n",
        "pca_2 = PCA(2)\n",
        "pca_2_resultados = pca_2.fit_transform(data_cluster)"
      ],
      "execution_count": 7,
      "outputs": []
    },
    {
      "cell_type": "markdown",
      "metadata": {
        "id": "FMXZGf84LvU0"
      },
      "source": [
        "#### Clusterizacion"
      ]
    },
    {
      "cell_type": "code",
      "metadata": {
        "colab": {
          "base_uri": "https://localhost:8080/",
          "height": 265
        },
        "id": "A6W3eRoHLWBu",
        "outputId": "07f8f84d-13b7-47b8-baa5-52129cbf2b6d"
      },
      "source": [
        "var=[]\n",
        "\n",
        "for i in range(2,33):\n",
        "  kmeans=KMeans(n_clusters=i, init=\"k-means++\", random_state=15)\n",
        "  kmeans.fit(pca_2_resultados)\n",
        "  var.append(kmeans.inertia_)\n",
        "  \n",
        "sns.lineplot(x=range(2,33),y=var);"
      ],
      "execution_count": 10,
      "outputs": [
        {
          "output_type": "display_data",
          "data": {
            "image/png": "[encoded data removed]",
            "text/plain": [
              "<Figure size 432x288 with 1 Axes>"
            ]
          },
          "metadata": {
            "needs_background": "light"
          }
        }
      ]
    },
    {
      "cell_type": "code",
      "metadata": {
        "colab": {
          "base_uri": "https://localhost:8080/",
          "height": 530
        },
        "id": "iVP5gP6OJfPJ",
        "outputId": "0f9aaae4-bf87-444e-c93b-6fc503269ae2"
      },
      "source": [
        "kmeans = KMeans(n_clusters=2, init=\"k-means++\")\n",
        "kmeans.fit(pca_2_resultados)\n",
        "print('\\n\\n', kmeans.cluster_centers_, '\\n\\n')\n",
        "clusters = kmeans.fit_predict(pca_2_resultados)\n",
        "data_cluster[\"label\"] = clusters\n",
        "\n",
        "fig, ax = plt.subplots(figsize = (10, 7))\n",
        "sns.scatterplot(x=pca_2_resultados[:,0], y=pca_2_resultados[:,1],style=data_cluster.label,hue=ds_random_forest.es_peña)\n",
        "sns.scatterplot(x=kmeans.cluster_centers_[:,0], y=kmeans.cluster_centers_[:,1],\n",
        "                color=\"green\", marker=\"x\", s=15, zorder=10,lw=10,linewidth=20,alpha=1);"
      ],
      "execution_count": 11,
      "outputs": [
        {
          "output_type": "stream",
          "name": "stdout",
          "text": [
            "\n",
            "\n",
            " [[-0.66123834 -0.08154436]\n",
            " [ 4.88996421  0.60303373]] \n",
            "\n",
            "\n"
          ]
        },
        {
          "output_type": "display_data",
          "data": {
            "image/png": "[encoded data removed]",
            "text/plain": [
              "<Figure size 720x504 with 1 Axes>"
            ]
          },
          "metadata": {
            "needs_background": "light"
          }
        }
      ]
    },
    {
      "cell_type": "markdown",
      "metadata": {
        "id": "5dA7BaG-2tq0"
      },
      "source": [
        "#### Datos del presupuesto para la deteccion del presidente"
      ]
    },
    {
      "cell_type": "code",
      "metadata": {
        "id": "I3b_tWKbinjt"
      },
      "source": [
        "m_size = min(df_pres[~df_pres['es_peña']].shape[0], df_pres[df_pres['es_peña']].shape[0])\n",
        "\n",
        "los_penas = df_pres[df_pres['es_peña']]\n",
        "los_amlos = df_pres[~df_pres['es_peña']].sample(m_size, replace=False)\n",
        "\n",
        "ds_pres_presidente = los_penas.copy().append(los_amlos)\n",
        "ds_pres_presidente = ds_pres_presidente[list(filter(lambda l: 'MONTO' in l or l == 'es_peña', list(ds_pres_presidente.columns)))]\n",
        "ds_pres_presidente_X = ds_pres_presidente.copy().drop(['es_peña'], axis=1)\n",
        "ds_pres_presidente_y = ds_pres_presidente['es_peña']\n",
        "\n",
        "X_train, X_test, y_train, y_test = train_test_split(ds_pres_presidente_X, ds_pres_presidente_y, test_size=0.3)"
      ],
      "execution_count": 12,
      "outputs": []
    },
    {
      "cell_type": "markdown",
      "metadata": {
        "id": "2ZFn7dEP3Hpr"
      },
      "source": [
        "#### Regresion logistica simple"
      ]
    },
    {
      "cell_type": "code",
      "metadata": {
        "colab": {
          "base_uri": "https://localhost:8080/"
        },
        "id": "qrhhhc7Dintj",
        "outputId": "90a65ff9-a959-48b8-f685-f154caadafc4"
      },
      "source": [
        "clf = LogisticRegression().fit(X_train, y_train)\n",
        "print('Score!:', clf.score(X_test, y_test))\n",
        "\n",
        "y_pred = clf.predict(X_test)"
      ],
      "execution_count": 13,
      "outputs": [
        {
          "output_type": "stream",
          "name": "stdout",
          "text": [
            "Score!: 0.702112551038523\n"
          ]
        }
      ]
    },
    {
      "cell_type": "markdown",
      "metadata": {
        "id": "hKxyoG1s78Rs"
      },
      "source": [
        "#### Random forest con validacion cruzada"
      ]
    },
    {
      "cell_type": "code",
      "metadata": {
        "colab": {
          "base_uri": "https://localhost:8080/"
        },
        "id": "UGJkQSuT3QZZ",
        "outputId": "636f158c-e016-4ad0-c02d-fc51c203613d"
      },
      "source": [
        "from sklearn.ensemble import RandomForestClassifier\n",
        "from sklearn.model_selection import cross_val_score, cross_val_predict\n",
        "\n",
        "# scores = cross_validate(\n",
        "#     RandomForestClassifier(),\n",
        "#     ds_pres_presidente_X,\n",
        "#     ds_pres_presidente_y,\n",
        "#     scoring='accuracy')\n",
        "\n",
        "# print('Scores:', scores.get('test_score'))\n",
        "# print(f'Score del modelo: {scores[\"test_score\"].mean():.3f} +/- {scores[\"test_score\"].std():.3f}')\n",
        "# # Score del modelo: 0.764 +/- 0.046\n",
        "\n",
        "\n",
        "predictions = cross_val_predict(\n",
        "    RandomForestClassifier(),\n",
        "    ds_pres_presidente_X,\n",
        "    ds_pres_presidente_y)\n",
        "\n",
        "accuracy = (predictions == ds_pres_presidente_y).sum()/ds_pres_presidente_y.shape[0]\n",
        "print(\"Random forest accuracy: \", accuracy, '%')"
      ],
      "execution_count": 14,
      "outputs": [
        {
          "output_type": "stream",
          "name": "stdout",
          "text": [
            "Random forest accuracy:  0.7647879322762916 %\n"
          ]
        }
      ]
    },
    {
      "cell_type": "markdown",
      "metadata": {
        "id": "AAm5qT4dG0ka"
      },
      "source": [
        "#### Resultados"
      ]
    },
    {
      "cell_type": "code",
      "metadata": {
        "id": "TH_sfQwoMsw8"
      },
      "source": [
        "pred_result, org_values = predictions, ds_pres_presidente_y"
      ],
      "execution_count": 15,
      "outputs": []
    },
    {
      "cell_type": "code",
      "metadata": {
        "colab": {
          "base_uri": "https://localhost:8080/",
          "height": 457
        },
        "id": "pgEdpg2bin0n",
        "outputId": "e7523645-f138-4e8b-bd6b-dfbbd93235a6"
      },
      "source": [
        "cnf_matrix = metrics.confusion_matrix(org_values, pred_result)\n",
        "\n",
        "cnf_matrix = cnf_matrix/cnf_matrix.sum()\n",
        "class_names=[0,1] # name  of classes\n",
        "fig, ax = plt.subplots(figsize=(6, 6))\n",
        "tick_marks = np.arange(len(class_names))\n",
        "plt.xticks(tick_marks, class_names)\n",
        "plt.yticks(tick_marks, class_names)\n",
        "# create heatmap\n",
        "sns.heatmap(pd.DataFrame(cnf_matrix), annot=True, cmap=\"Blues\" ,fmt='.2%', cbar=False, annot_kws={\"size\": 20})\n",
        "ax.xaxis.set_label_position(\"top\")\n",
        "plt.tight_layout()\n",
        "plt.ylabel('Realidad', fontsize=15, y=0.5)\n",
        "plt.xlabel('Estimado por el modelo', fontsize=15);"
      ],
      "execution_count": 16,
      "outputs": [
        {
          "output_type": "display_data",
          "data": {
            "image/png": "[encoded data removed]",
            "text/plain": [
              "<Figure size 432x432 with 1 Axes>"
            ]
          },
          "metadata": {
            "needs_background": "light"
          }
        }
      ]
    },
    {
      "cell_type": "code",
      "metadata": {
        "colab": {
          "base_uri": "https://localhost:8080/"
        },
        "id": "OIFIOZkJin69",
        "outputId": "ff9d95a6-7f4b-4523-be33-c9317f68356b"
      },
      "source": [
        "tn, fp, fn, tp = cnf_matrix.ravel()\n",
        "\n",
        "print(\"Precision:\",metrics.precision_score(org_values, pred_result))\n",
        "print(\"Exactitud:\",metrics.accuracy_score(org_values, pred_result))\n",
        "print(\"Sensibilidad:\",metrics.recall_score(org_values, pred_result))\n",
        "print(\"Especificidad:\", tn / (tn + fp))"
      ],
      "execution_count": 17,
      "outputs": [
        {
          "output_type": "stream",
          "name": "stdout",
          "text": [
            "Precision: 0.7648255430536814\n",
            "Exactitud: 0.7647879322762916\n",
            "Sensibilidad: 0.7647169217971738\n",
            "Especificidad: 0.7648589427554094\n"
          ]
        }
      ]
    },
    {
      "cell_type": "code",
      "metadata": {
        "colab": {
          "base_uri": "https://localhost:8080/",
          "height": 313
        },
        "id": "LGQ5jyPCiHGt",
        "outputId": "c555e3e2-90fb-4408-e494-556d7009b5a7"
      },
      "source": [
        "fpr, tpr, _ = roc_curve(org_values, pred_result)\n",
        "roc_auc = auc(fpr, tpr)\n",
        "\n",
        "plt.figure()\n",
        "plt.plot(fpr, tpr, color='darkorange',\n",
        "         label='ROC curve (area = %0.2f)' % roc_auc)\n",
        "plt.plot([0, 1], [0, 1], color='navy', linestyle='--')\n",
        "plt.xlim([0.0, 1.0])\n",
        "plt.ylim([0.0, 1.05])\n",
        "plt.xlabel('Proporción Positivos False')\n",
        "plt.ylabel('Proporción Positivos Verdaderos')\n",
        "plt.title('Curva ROC / AUC')\n",
        "plt.legend(loc=\"lower right\")\n",
        "plt.show()\n",
        "plt.savefig('ROC_RF.png')"
      ],
      "execution_count": 18,
      "outputs": [
        {
          "output_type": "display_data",
          "data": {
            "image/png": "[encoded data removed]",
            "text/plain": [
              "<Figure size 432x288 with 1 Axes>"
            ]
          },
          "metadata": {
            "needs_background": "light"
          }
        },
        {
          "output_type": "display_data",
          "data": {
            "text/plain": [
              "<Figure size 432x288 with 0 Axes>"
            ]
          },
          "metadata": {}
        }
      ]
    },
    {
      "cell_type": "code",
      "metadata": {
        "colab": {
          "base_uri": "https://localhost:8080/",
          "height": 585
        },
        "id": "JHwUOIDUr6_I",
        "outputId": "82cc2050-ba3c-4235-993e-eb397b2aa675"
      },
      "source": [
        "train_accuracy = [0.76,.70]\n",
        "plt.figure(figsize=(10,8))\n",
        "plt.bar([ 'RF', 'LOGREG'], train_accuracy)\n",
        "plt.title('Comparación de Precisión de los Diferentes Modelos', fontsize=15, color='r')\n",
        "plt.xlabel('Modelos', fontsize=18, color='g')\n",
        "plt.ylabel('Precisión', fontsize=18, color='g')\n",
        "plt.tight_layout()\n",
        "plt.show()"
      ],
      "execution_count": 19,
      "outputs": [
        {
          "output_type": "display_data",
          "data": {
            "image/png": "[encoded data removed]",
            "text/plain": [
              "<Figure size 720x576 with 1 Axes>"
            ]
          },
          "metadata": {
            "needs_background": "light"
          }
        }
      ]
    },
    {
      "cell_type": "markdown",
      "metadata": {
        "id": "ygSWuzsHthZS"
      },
      "source": [
        "## Clusterizacion de los datos del CPI"
      ]
    },
    {
      "cell_type": "markdown",
      "metadata": {
        "id": "F15xEZ4wtxJ1"
      },
      "source": [
        "### Datos del CPI"
      ]
    },
    {
      "cell_type": "code",
      "metadata": {
        "colab": {
          "base_uri": "https://localhost:8080/",
          "height": 377
        },
        "id": "BCz34FqJtkpm",
        "outputId": "7cbbf8e9-c985-4af5-f235-f4d16b758f0f"
      },
      "source": [
        "ds_cpi = pd.read_csv('https://raw.githubusercontent.com/Forever-D14/Corrupt_ML/main/CPI_Mex_full.csv')\n",
        "\n",
        "ds_cpi['estado'] = ds_cpi['estado'].map(renom_estados)\n",
        "ds_cpi.rename(columns = {'estado':'Entidad Federativa'},inplace=True)\n",
        "ds_cpi_reduce = ds_cpi.groupby(['Entidad Federativa', 'municipio']).mean()\n",
        "ds_cpi_reduce.head()"
      ],
      "execution_count": null,
      "outputs": [
        {
          "output_type": "execute_result",
          "data": {
            "text/html": [
              "<div>\n",
              "<style scoped>\n",
              "    .dataframe tbody tr th:only-of-type {\n",
              "        vertical-align: middle;\n",
              "    }\n",
              "\n",
              "    .dataframe tbody tr th {\n",
              "        vertical-align: top;\n",
              "    }\n",
              "\n",
              "    .dataframe thead th {\n",
              "        text-align: right;\n",
              "    }\n",
              "</style>\n",
              "<table border=\"1\" class=\"dataframe\">\n",
              "  <thead>\n",
              "    <tr style=\"text-align: right;\">\n",
              "      <th></th>\n",
              "      <th></th>\n",
              "      <th>Accesibilidad al espacio público abierto</th>\n",
              "      <th>Acceso a Internet</th>\n",
              "      <th>Acceso a agua mejorada</th>\n",
              "      <th>Aglomeración económica</th>\n",
              "      <th>CALIDAD DE VIDA</th>\n",
              "      <th>Calidad del aire</th>\n",
              "      <th>Capacidad institucional y ﬁnanzas municipales</th>\n",
              "      <th>Coeﬁciente de Gini</th>\n",
              "      <th>Concentraciones de material particulado</th>\n",
              "      <th>Concentración de CO2</th>\n",
              "      <th>Crecimiento económico</th>\n",
              "      <th>Densidad de la interconexión vial</th>\n",
              "      <th>Densidad de médicos</th>\n",
              "      <th>Densidad económica</th>\n",
              "      <th>Densidad poblacional</th>\n",
              "      <th>Densidad vial</th>\n",
              "      <th>Desempleo juvenil</th>\n",
              "      <th>Deuda subnacional</th>\n",
              "      <th>EQUIDAD E INCLUSIÓN SOCIAL</th>\n",
              "      <th>Educación</th>\n",
              "      <th>Empleo</th>\n",
              "      <th>Energía</th>\n",
              "      <th>Equidad económica</th>\n",
              "      <th>Espacio habitable suﬁciente</th>\n",
              "      <th>Espacio público</th>\n",
              "      <th>Esperanza de vida al nacer</th>\n",
              "      <th>Eﬁciencia del gasto local</th>\n",
              "      <th>Eﬁciencia en el uso de suelo</th>\n",
              "      <th>Fatalidades de tránsito</th>\n",
              "      <th>Forma urbana</th>\n",
              "      <th>GOBERNANZA Y LEGISLACIÓN URBANA</th>\n",
              "      <th>Gobernanza de la urbanización</th>\n",
              "      <th>INFRAESTRUCTURA DE DESARROLLO</th>\n",
              "      <th>Inclusión de género</th>\n",
              "      <th>Inclusión social</th>\n",
              "      <th>Infraestructura de comunicaciones</th>\n",
              "      <th>Infraestructura de vivienda</th>\n",
              "      <th>Infraestructura social</th>\n",
              "      <th>Inscripción equitativa en educación a nivel secundario</th>\n",
              "      <th>Longitud de transporte masivo</th>\n",
              "      <th>Manejo de residuos</th>\n",
              "      <th>Movilidad urbana</th>\n",
              "      <th>Número de estaciones de monitoreo</th>\n",
              "      <th>PRODUCTIVIDAD</th>\n",
              "      <th>Participación electoral</th>\n",
              "      <th>Participación y rendición de cuentas</th>\n",
              "      <th>Producto urbano per cápita</th>\n",
              "      <th>Promedio de años de escolaridad</th>\n",
              "      <th>Proporción de generación de energía renovable</th>\n",
              "      <th>Recaudación de ingresos propios</th>\n",
              "      <th>Recolección de residuos sólidos</th>\n",
              "      <th>Relación de dependencia de la tercera edad</th>\n",
              "      <th>Relación empleo-población</th>\n",
              "      <th>SOSTENIBILIDAD AMBIENTAL</th>\n",
              "      <th>Salud</th>\n",
              "      <th>Seguridad y protección</th>\n",
              "      <th>Superﬁcie destinada a vías</th>\n",
              "      <th>Tasa de alfabetización</th>\n",
              "      <th>Tasa de desempleo</th>\n",
              "      <th>Tasa de homicidios</th>\n",
              "      <th>Tasa de mortalidad de menores de 5 años</th>\n",
              "      <th>Tasa de pobreza</th>\n",
              "      <th>Tratamiento de aguas residuales</th>\n",
              "      <th>Velocidad de banda ancha promedio</th>\n",
              "      <th>Vivienda durable</th>\n",
              "      <th>Viviendas en barrios precarios</th>\n",
              "      <th>Áreas verdes per cápita</th>\n",
              "    </tr>\n",
              "    <tr>\n",
              "      <th>Entidad Federativa</th>\n",
              "      <th>municipio</th>\n",
              "      <th></th>\n",
              "      <th></th>\n",
              "      <th></th>\n",
              "      <th></th>\n",
              "      <th></th>\n",
              "      <th></th>\n",
              "      <th></th>\n",
              "      <th></th>\n",
              "      <th></th>\n",
              "      <th></th>\n",
              "      <th></th>\n",
              "      <th></th>\n",
              "      <th></th>\n",
              "      <th></th>\n",
              "      <th></th>\n",
              "      <th></th>\n",
              "      <th></th>\n",
              "      <th></th>\n",
              "      <th></th>\n",
              "      <th></th>\n",
              "      <th></th>\n",
              "      <th></th>\n",
              "      <th></th>\n",
              "      <th></th>\n",
              "      <th></th>\n",
              "      <th></th>\n",
              "      <th></th>\n",
              "      <th></th>\n",
              "      <th></th>\n",
              "      <th></th>\n",
              "      <th></th>\n",
              "      <th></th>\n",
              "      <th></th>\n",
              "      <th></th>\n",
              "      <th></th>\n",
              "      <th></th>\n",
              "      <th></th>\n",
              "      <th></th>\n",
              "      <th></th>\n",
              "      <th></th>\n",
              "      <th></th>\n",
              "      <th></th>\n",
              "      <th></th>\n",
              "      <th></th>\n",
              "      <th></th>\n",
              "      <th></th>\n",
              "      <th></th>\n",
              "      <th></th>\n",
              "      <th></th>\n",
              "      <th></th>\n",
              "      <th></th>\n",
              "      <th></th>\n",
              "      <th></th>\n",
              "      <th></th>\n",
              "      <th></th>\n",
              "      <th></th>\n",
              "      <th></th>\n",
              "      <th></th>\n",
              "      <th></th>\n",
              "      <th></th>\n",
              "      <th></th>\n",
              "      <th></th>\n",
              "      <th></th>\n",
              "      <th></th>\n",
              "      <th></th>\n",
              "      <th></th>\n",
              "      <th></th>\n",
              "    </tr>\n",
              "  </thead>\n",
              "  <tbody>\n",
              "    <tr>\n",
              "      <th rowspan=\"3\" valign=\"top\">Aguascalientes</th>\n",
              "      <th>Aguascalientes</th>\n",
              "      <td>73.28</td>\n",
              "      <td>27.92</td>\n",
              "      <td>99.02</td>\n",
              "      <td>68.10</td>\n",
              "      <td>69.72</td>\n",
              "      <td>62.83</td>\n",
              "      <td>43.60</td>\n",
              "      <td>49.45</td>\n",
              "      <td>67.43</td>\n",
              "      <td>46.08</td>\n",
              "      <td>51.88</td>\n",
              "      <td>100.0</td>\n",
              "      <td>71.24</td>\n",
              "      <td>68.10</td>\n",
              "      <td>42.90</td>\n",
              "      <td>84.57</td>\n",
              "      <td>62.88</td>\n",
              "      <td>14.66</td>\n",
              "      <td>72.49</td>\n",
              "      <td>85.15</td>\n",
              "      <td>64.44</td>\n",
              "      <td>0.0</td>\n",
              "      <td>47.80</td>\n",
              "      <td>100.0</td>\n",
              "      <td>63.96</td>\n",
              "      <td>73.16</td>\n",
              "      <td>91.34</td>\n",
              "      <td>0.00</td>\n",
              "      <td>84.71</td>\n",
              "      <td>89.49</td>\n",
              "      <td>29.10</td>\n",
              "      <td>0.00</td>\n",
              "      <td>64.85</td>\n",
              "      <td>90.33</td>\n",
              "      <td>79.34</td>\n",
              "      <td>35.68</td>\n",
              "      <td>85.48</td>\n",
              "      <td>71.24</td>\n",
              "      <td>90.33</td>\n",
              "      <td>0.0</td>\n",
              "      <td>41.47</td>\n",
              "      <td>42.36</td>\n",
              "      <td>75.0</td>\n",
              "      <td>61.48</td>\n",
              "      <td>43.70</td>\n",
              "      <td>43.70</td>\n",
              "      <td>41.23</td>\n",
              "      <td>73.79</td>\n",
              "      <td>0.0</td>\n",
              "      <td>24.80</td>\n",
              "      <td>2.94</td>\n",
              "      <td>62.54</td>\n",
              "      <td>58.77</td>\n",
              "      <td>34.77</td>\n",
              "      <td>67.44</td>\n",
              "      <td>62.34</td>\n",
              "      <td>83.91</td>\n",
              "      <td>96.51</td>\n",
              "      <td>70.12</td>\n",
              "      <td>62.34</td>\n",
              "      <td>61.71</td>\n",
              "      <td>46.15</td>\n",
              "      <td>80.00</td>\n",
              "      <td>43.44</td>\n",
              "      <td>99.99</td>\n",
              "      <td>95.80</td>\n",
              "      <td>54.65</td>\n",
              "    </tr>\n",
              "    <tr>\n",
              "      <th>Jesús María</th>\n",
              "      <td>38.22</td>\n",
              "      <td>32.03</td>\n",
              "      <td>97.96</td>\n",
              "      <td>70.14</td>\n",
              "      <td>60.84</td>\n",
              "      <td>56.75</td>\n",
              "      <td>20.87</td>\n",
              "      <td>53.62</td>\n",
              "      <td>67.42</td>\n",
              "      <td>46.08</td>\n",
              "      <td>59.68</td>\n",
              "      <td>100.0</td>\n",
              "      <td>21.70</td>\n",
              "      <td>70.14</td>\n",
              "      <td>10.60</td>\n",
              "      <td>78.63</td>\n",
              "      <td>74.44</td>\n",
              "      <td>3.62</td>\n",
              "      <td>73.72</td>\n",
              "      <td>71.44</td>\n",
              "      <td>69.28</td>\n",
              "      <td>0.0</td>\n",
              "      <td>51.67</td>\n",
              "      <td>100.0</td>\n",
              "      <td>38.48</td>\n",
              "      <td>74.97</td>\n",
              "      <td>43.66</td>\n",
              "      <td>100.00</td>\n",
              "      <td>81.19</td>\n",
              "      <td>80.49</td>\n",
              "      <td>56.84</td>\n",
              "      <td>100.00</td>\n",
              "      <td>52.60</td>\n",
              "      <td>85.28</td>\n",
              "      <td>84.21</td>\n",
              "      <td>43.06</td>\n",
              "      <td>77.14</td>\n",
              "      <td>21.70</td>\n",
              "      <td>85.28</td>\n",
              "      <td>0.0</td>\n",
              "      <td>83.20</td>\n",
              "      <td>40.59</td>\n",
              "      <td>NaN</td>\n",
              "      <td>66.37</td>\n",
              "      <td>49.65</td>\n",
              "      <td>49.65</td>\n",
              "      <td>48.97</td>\n",
              "      <td>47.14</td>\n",
              "      <td>0.0</td>\n",
              "      <td>15.33</td>\n",
              "      <td>99.36</td>\n",
              "      <td>70.39</td>\n",
              "      <td>57.34</td>\n",
              "      <td>69.97</td>\n",
              "      <td>73.82</td>\n",
              "      <td>59.62</td>\n",
              "      <td>62.82</td>\n",
              "      <td>95.74</td>\n",
              "      <td>81.23</td>\n",
              "      <td>59.62</td>\n",
              "      <td>72.67</td>\n",
              "      <td>49.71</td>\n",
              "      <td>67.03</td>\n",
              "      <td>54.10</td>\n",
              "      <td>100.00</td>\n",
              "      <td>93.98</td>\n",
              "      <td>38.73</td>\n",
              "    </tr>\n",
              "    <tr>\n",
              "      <th>San Francisco de los Romo</th>\n",
              "      <td>100.00</td>\n",
              "      <td>8.40</td>\n",
              "      <td>98.42</td>\n",
              "      <td>65.86</td>\n",
              "      <td>62.71</td>\n",
              "      <td>56.75</td>\n",
              "      <td>37.20</td>\n",
              "      <td>60.70</td>\n",
              "      <td>67.43</td>\n",
              "      <td>46.08</td>\n",
              "      <td>60.89</td>\n",
              "      <td>100.0</td>\n",
              "      <td>27.90</td>\n",
              "      <td>65.86</td>\n",
              "      <td>12.31</td>\n",
              "      <td>87.82</td>\n",
              "      <td>69.52</td>\n",
              "      <td>0.00</td>\n",
              "      <td>72.67</td>\n",
              "      <td>75.79</td>\n",
              "      <td>64.59</td>\n",
              "      <td>0.0</td>\n",
              "      <td>47.86</td>\n",
              "      <td>100.0</td>\n",
              "      <td>58.96</td>\n",
              "      <td>73.16</td>\n",
              "      <td>100.00</td>\n",
              "      <td>0.00</td>\n",
              "      <td>77.64</td>\n",
              "      <td>88.00</td>\n",
              "      <td>29.81</td>\n",
              "      <td>0.00</td>\n",
              "      <td>51.66</td>\n",
              "      <td>87.23</td>\n",
              "      <td>82.93</td>\n",
              "      <td>25.92</td>\n",
              "      <td>77.68</td>\n",
              "      <td>27.90</td>\n",
              "      <td>87.23</td>\n",
              "      <td>0.0</td>\n",
              "      <td>35.36</td>\n",
              "      <td>38.82</td>\n",
              "      <td>NaN</td>\n",
              "      <td>63.78</td>\n",
              "      <td>52.23</td>\n",
              "      <td>52.23</td>\n",
              "      <td>51.47</td>\n",
              "      <td>57.57</td>\n",
              "      <td>0.0</td>\n",
              "      <td>11.61</td>\n",
              "      <td>2.24</td>\n",
              "      <td>70.31</td>\n",
              "      <td>55.52</td>\n",
              "      <td>30.70</td>\n",
              "      <td>64.17</td>\n",
              "      <td>51.93</td>\n",
              "      <td>76.19</td>\n",
              "      <td>94.02</td>\n",
              "      <td>73.66</td>\n",
              "      <td>51.93</td>\n",
              "      <td>55.17</td>\n",
              "      <td>35.02</td>\n",
              "      <td>68.48</td>\n",
              "      <td>43.44</td>\n",
              "      <td>100.00</td>\n",
              "      <td>96.33</td>\n",
              "      <td>17.93</td>\n",
              "    </tr>\n",
              "    <tr>\n",
              "      <th rowspan=\"2\" valign=\"top\">Baja California</th>\n",
              "      <th>Ensenada</th>\n",
              "      <td>28.97</td>\n",
              "      <td>45.03</td>\n",
              "      <td>85.26</td>\n",
              "      <td>57.58</td>\n",
              "      <td>54.24</td>\n",
              "      <td>64.29</td>\n",
              "      <td>44.57</td>\n",
              "      <td>45.63</td>\n",
              "      <td>82.50</td>\n",
              "      <td>46.08</td>\n",
              "      <td>42.72</td>\n",
              "      <td>100.0</td>\n",
              "      <td>50.46</td>\n",
              "      <td>57.58</td>\n",
              "      <td>16.13</td>\n",
              "      <td>74.58</td>\n",
              "      <td>78.69</td>\n",
              "      <td>57.96</td>\n",
              "      <td>72.79</td>\n",
              "      <td>72.25</td>\n",
              "      <td>63.01</td>\n",
              "      <td>0.0</td>\n",
              "      <td>44.34</td>\n",
              "      <td>100.0</td>\n",
              "      <td>27.56</td>\n",
              "      <td>69.20</td>\n",
              "      <td>61.59</td>\n",
              "      <td>46.85</td>\n",
              "      <td>93.74</td>\n",
              "      <td>81.22</td>\n",
              "      <td>42.42</td>\n",
              "      <td>46.85</td>\n",
              "      <td>56.56</td>\n",
              "      <td>92.33</td>\n",
              "      <td>81.71</td>\n",
              "      <td>49.57</td>\n",
              "      <td>54.68</td>\n",
              "      <td>50.46</td>\n",
              "      <td>92.33</td>\n",
              "      <td>0.0</td>\n",
              "      <td>89.10</td>\n",
              "      <td>46.87</td>\n",
              "      <td>NaN</td>\n",
              "      <td>54.44</td>\n",
              "      <td>35.83</td>\n",
              "      <td>35.83</td>\n",
              "      <td>27.83</td>\n",
              "      <td>49.14</td>\n",
              "      <td>0.0</td>\n",
              "      <td>14.15</td>\n",
              "      <td>91.14</td>\n",
              "      <td>57.61</td>\n",
              "      <td>51.18</td>\n",
              "      <td>76.70</td>\n",
              "      <td>67.96</td>\n",
              "      <td>49.20</td>\n",
              "      <td>69.07</td>\n",
              "      <td>95.35</td>\n",
              "      <td>74.85</td>\n",
              "      <td>49.20</td>\n",
              "      <td>66.72</td>\n",
              "      <td>43.04</td>\n",
              "      <td>87.07</td>\n",
              "      <td>54.10</td>\n",
              "      <td>17.34</td>\n",
              "      <td>84.74</td>\n",
              "      <td>26.14</td>\n",
              "    </tr>\n",
              "    <tr>\n",
              "      <th>Mexicali</th>\n",
              "      <td>42.90</td>\n",
              "      <td>37.96</td>\n",
              "      <td>95.59</td>\n",
              "      <td>55.86</td>\n",
              "      <td>59.45</td>\n",
              "      <td>35.36</td>\n",
              "      <td>66.59</td>\n",
              "      <td>48.62</td>\n",
              "      <td>0.00</td>\n",
              "      <td>46.08</td>\n",
              "      <td>51.07</td>\n",
              "      <td>95.5</td>\n",
              "      <td>59.54</td>\n",
              "      <td>55.86</td>\n",
              "      <td>12.96</td>\n",
              "      <td>75.59</td>\n",
              "      <td>69.51</td>\n",
              "      <td>59.07</td>\n",
              "      <td>74.23</td>\n",
              "      <td>85.32</td>\n",
              "      <td>70.31</td>\n",
              "      <td>100.0</td>\n",
              "      <td>48.49</td>\n",
              "      <td>100.0</td>\n",
              "      <td>29.74</td>\n",
              "      <td>66.38</td>\n",
              "      <td>100.00</td>\n",
              "      <td>0.00</td>\n",
              "      <td>99.33</td>\n",
              "      <td>79.94</td>\n",
              "      <td>29.64</td>\n",
              "      <td>0.00</td>\n",
              "      <td>57.87</td>\n",
              "      <td>92.00</td>\n",
              "      <td>82.18</td>\n",
              "      <td>40.70</td>\n",
              "      <td>59.52</td>\n",
              "      <td>59.54</td>\n",
              "      <td>92.00</td>\n",
              "      <td>0.0</td>\n",
              "      <td>97.71</td>\n",
              "      <td>49.66</td>\n",
              "      <td>60.0</td>\n",
              "      <td>59.08</td>\n",
              "      <td>22.34</td>\n",
              "      <td>22.34</td>\n",
              "      <td>40.55</td>\n",
              "      <td>74.43</td>\n",
              "      <td>100.0</td>\n",
              "      <td>40.70</td>\n",
              "      <td>95.51</td>\n",
              "      <td>61.60</td>\n",
              "      <td>62.73</td>\n",
              "      <td>77.69</td>\n",
              "      <td>62.00</td>\n",
              "      <td>60.72</td>\n",
              "      <td>68.72</td>\n",
              "      <td>96.22</td>\n",
              "      <td>77.89</td>\n",
              "      <td>60.72</td>\n",
              "      <td>57.62</td>\n",
              "      <td>48.37</td>\n",
              "      <td>99.91</td>\n",
              "      <td>43.44</td>\n",
              "      <td>29.52</td>\n",
              "      <td>94.85</td>\n",
              "      <td>16.58</td>\n",
              "    </tr>\n",
              "  </tbody>\n",
              "</table>\n",
              "</div>"
            ],
            "text/plain": [
              "                                              Accesibilidad al espacio público abierto  ...  Áreas verdes per cápita\n",
              "Entidad Federativa municipio                                                            ...                         \n",
              "Aguascalientes     Aguascalientes                                                73.28  ...                    54.65\n",
              "                   Jesús María                                                   38.22  ...                    38.73\n",
              "                   San Francisco de los Romo                                    100.00  ...                    17.93\n",
              "Baja California    Ensenada                                                      28.97  ...                    26.14\n",
              "                   Mexicali                                                      42.90  ...                    16.58\n",
              "\n",
              "[5 rows x 67 columns]"
            ]
          },
          "metadata": {},
          "execution_count": 40
        }
      ]
    },
    {
      "cell_type": "markdown",
      "metadata": {
        "id": "YyjFSgSTC2kM"
      },
      "source": [
        "###Reduccion de la Dimensionalidad del Dataset"
      ]
    },
    {
      "cell_type": "code",
      "metadata": {
        "colab": {
          "base_uri": "https://localhost:8080/",
          "height": 283
        },
        "id": "hX-Vq6cBuD-s",
        "outputId": "f5612409-52e8-4e41-b6c7-d409d9f8ce1c"
      },
      "source": [
        "std_scaler =  StandardScaler()\n",
        "pca = PCA(2)\n",
        "ds_cpi_reduce[ds_cpi_reduce.columns] = std_scaler.fit_transform(ds_cpi_reduce)\n",
        "\n",
        "\n",
        "ds_cpi_reduce = ds_cpi_reduce.fillna(ds_cpi_reduce.mean())\n",
        "pca.fit(ds_cpi_reduce)\n",
        "\n",
        "plt.plot(\n",
        "       range(len(pca.explained_variance_)),\n",
        "       pca.explained_variance_ratio_\n",
        "   )\n",
        "\n",
        "print(\"Varianza acumulada explicada por mis dos nuevas variables: {:.2%}\".format(np.sum(pca.explained_variance_ratio_)))"
      ],
      "execution_count": null,
      "outputs": [
        {
          "output_type": "stream",
          "name": "stdout",
          "text": [
            "Varianza acumulada explicada por mis dos nuevas variables: 31.91%\n"
          ]
        },
        {
          "output_type": "display_data",
          "data": {
            "image/png": "[encoded data removed]",
            "text/plain": [
              "<Figure size 432x288 with 1 Axes>"
            ]
          },
          "metadata": {
            "needs_background": "light"
          }
        }
      ]
    },
    {
      "cell_type": "code",
      "metadata": {
        "colab": {
          "base_uri": "https://localhost:8080/",
          "height": 236
        },
        "id": "VKm4UFcmun0e",
        "outputId": "d988d342-1791-4616-bda1-746f29863380"
      },
      "source": [
        "ds_cpi_reduced = pd.DataFrame(\n",
        "    pca.transform(ds_cpi_reduce),\n",
        "    index=ds_cpi_reduce.copy().index)\n",
        "\n",
        "ds_cpi_reduced.head()"
      ],
      "execution_count": null,
      "outputs": [
        {
          "output_type": "execute_result",
          "data": {
            "text/html": [
              "<div>\n",
              "<style scoped>\n",
              "    .dataframe tbody tr th:only-of-type {\n",
              "        vertical-align: middle;\n",
              "    }\n",
              "\n",
              "    .dataframe tbody tr th {\n",
              "        vertical-align: top;\n",
              "    }\n",
              "\n",
              "    .dataframe thead th {\n",
              "        text-align: right;\n",
              "    }\n",
              "</style>\n",
              "<table border=\"1\" class=\"dataframe\">\n",
              "  <thead>\n",
              "    <tr style=\"text-align: right;\">\n",
              "      <th></th>\n",
              "      <th></th>\n",
              "      <th>0</th>\n",
              "      <th>1</th>\n",
              "    </tr>\n",
              "    <tr>\n",
              "      <th>Entidad Federativa</th>\n",
              "      <th>municipio</th>\n",
              "      <th></th>\n",
              "      <th></th>\n",
              "    </tr>\n",
              "  </thead>\n",
              "  <tbody>\n",
              "    <tr>\n",
              "      <th rowspan=\"3\" valign=\"top\">Aguascalientes</th>\n",
              "      <th>Aguascalientes</th>\n",
              "      <td>-3.166468</td>\n",
              "      <td>-0.060629</td>\n",
              "    </tr>\n",
              "    <tr>\n",
              "      <th>Jesús María</th>\n",
              "      <td>-1.205980</td>\n",
              "      <td>-1.490883</td>\n",
              "    </tr>\n",
              "    <tr>\n",
              "      <th>San Francisco de los Romo</th>\n",
              "      <td>-1.270079</td>\n",
              "      <td>1.845789</td>\n",
              "    </tr>\n",
              "    <tr>\n",
              "      <th rowspan=\"2\" valign=\"top\">Baja California</th>\n",
              "      <th>Ensenada</th>\n",
              "      <td>-0.691337</td>\n",
              "      <td>-0.029676</td>\n",
              "    </tr>\n",
              "    <tr>\n",
              "      <th>Mexicali</th>\n",
              "      <td>-4.274943</td>\n",
              "      <td>1.897700</td>\n",
              "    </tr>\n",
              "  </tbody>\n",
              "</table>\n",
              "</div>"
            ],
            "text/plain": [
              "                                                     0         1\n",
              "Entidad Federativa municipio                                    \n",
              "Aguascalientes     Aguascalientes            -3.166468 -0.060629\n",
              "                   Jesús María               -1.205980 -1.490883\n",
              "                   San Francisco de los Romo -1.270079  1.845789\n",
              "Baja California    Ensenada                  -0.691337 -0.029676\n",
              "                   Mexicali                  -4.274943  1.897700"
            ]
          },
          "metadata": {},
          "execution_count": 43
        }
      ]
    },
    {
      "cell_type": "code",
      "metadata": {
        "colab": {
          "base_uri": "https://localhost:8080/",
          "height": 335
        },
        "id": "K3Ds8cK2u16A",
        "outputId": "3167472b-96bd-42a8-872e-e0eab872c6d2"
      },
      "source": [
        "sns.scatterplot(ds_cpi_reduced[0], ds_cpi_reduced[1]);"
      ],
      "execution_count": null,
      "outputs": [
        {
          "output_type": "stream",
          "name": "stderr",
          "text": [
            "/usr/local/lib/python3.7/dist-packages/seaborn/_decorators.py:43: FutureWarning: Pass the following variables as keyword args: x, y. From version 0.12, the only valid positional argument will be `data`, and passing other arguments without an explicit keyword will result in an error or misinterpretation.\n",
            "  FutureWarning\n"
          ]
        },
        {
          "output_type": "display_data",
          "data": {
            "image/png": "[encoded data removed]",
            "text/plain": [
              "<Figure size 432x288 with 1 Axes>"
            ]
          },
          "metadata": {
            "needs_background": "light"
          }
        }
      ]
    },
    {
      "cell_type": "markdown",
      "metadata": {
        "id": "HlrCSzCbDAIX"
      },
      "source": [
        "###Metodo del Codo"
      ]
    },
    {
      "cell_type": "markdown",
      "metadata": {
        "id": "qqKqRmaqDEvu"
      },
      "source": [
        "Donde nos indica que el numero optimo para nuestro modelo de KMeans es de 2 clusters\n"
      ]
    },
    {
      "cell_type": "code",
      "metadata": {
        "colab": {
          "base_uri": "https://localhost:8080/",
          "height": 265
        },
        "id": "nnlDGWrqu7dD",
        "outputId": "e22971f0-38a7-4fe5-fad2-1d6ab8200bac"
      },
      "source": [
        "var = []\n",
        "\n",
        "for i in range(1,10):\n",
        "  kmeans = KMeans(n_clusters = i, init = \"k-means++\")\n",
        "  kmeans.fit(ds_cpi_reduced)\n",
        "\n",
        "  var.append(kmeans.inertia_)\n",
        "\n",
        "plt.plot(range(1,10),var);"
      ],
      "execution_count": null,
      "outputs": [
        {
          "output_type": "display_data",
          "data": {
            "image/png": "[encoded data removed]",
            "text/plain": [
              "<Figure size 432x288 with 1 Axes>"
            ]
          },
          "metadata": {
            "needs_background": "light"
          }
        }
      ]
    },
    {
      "cell_type": "code",
      "metadata": {
        "id": "oSPciIhvu9Tf"
      },
      "source": [
        "kmeans = KMeans(n_clusters = 2, init= \"k-means++\")\n",
        "kmeans.fit(ds_cpi_reduced)\n",
        "ds_cpi['cluster'] = kmeans.predict(ds_cpi_reduced)\n",
        "ds_cpi_reduced['cluster'] = kmeans.predict(ds_cpi_reduced)"
      ],
      "execution_count": null,
      "outputs": []
    },
    {
      "cell_type": "markdown",
      "metadata": {
        "id": "LjgOoOvFDPfd"
      },
      "source": [
        "###Visualizamos los clusters con su centroide\n"
      ]
    },
    {
      "cell_type": "code",
      "metadata": {
        "colab": {
          "base_uri": "https://localhost:8080/",
          "height": 283
        },
        "id": "xlZr7cPdvJ75",
        "outputId": "10b5a93e-e610-4f51-ee44-22977cd233b9"
      },
      "source": [
        "plt.scatter(ds_cpi_reduced[0][ds_cpi_reduced['cluster'] == 0], ds_cpi_reduced[1][ds_cpi_reduced['cluster']==0], color = \"green\")\n",
        "plt.scatter(ds_cpi_reduced[0][ds_cpi_reduced['cluster'] == 1], ds_cpi_reduced[1][ds_cpi_reduced['cluster']==1], color = \"red\")\n",
        "plt.scatter(kmeans.cluster_centers_[:,0],kmeans.cluster_centers_[:,1],color = \"k\",marker='X', s=200)"
      ],
      "execution_count": null,
      "outputs": [
        {
          "output_type": "execute_result",
          "data": {
            "text/plain": [
              "<matplotlib.collections.PathCollection at 0x7f7711cea110>"
            ]
          },
          "metadata": {},
          "execution_count": 49
        },
        {
          "output_type": "display_data",
          "data": {
            "image/png": "[encoded data removed]",
            "text/plain": [
              "<Figure size 432x288 with 1 Axes>"
            ]
          },
          "metadata": {
            "needs_background": "light"
          }
        }
      ]
    },
    {
      "cell_type": "markdown",
      "metadata": {
        "id": "4YTO8TpwvX2y"
      },
      "source": [
        "###Promedio por Cluster en cada una de las variables"
      ]
    },
    {
      "cell_type": "markdown",
      "metadata": {
        "id": "GxK_NaldCcEq"
      },
      "source": [
        "Dentro de estos promedios podemos concluir mediante las variables que:\n",
        "\n",
        "\n",
        "*   Cluster 0 = Ciudades Rurales\n",
        "*   Cluster 1 = Ciudades Urbanas\n",
        "\n"
      ]
    },
    {
      "cell_type": "code",
      "metadata": {
        "colab": {
          "base_uri": "https://localhost:8080/",
          "height": 249
        },
        "id": "SY5Rcd1FvYLf",
        "outputId": "28e932e4-5360-4de2-c7bc-a06fcf584fda"
      },
      "source": [
        "data2= ds_cpi_reduce.drop(columns = ['Energía', 'Proporción de generación de energía renovable'])\n",
        "data2['cluster'] = ds_cpi_reduced['cluster']\n",
        "data2.groupby('cluster').mean()"
      ],
      "execution_count": null,
      "outputs": [
        {
          "output_type": "execute_result",
          "data": {
            "text/html": [
              "<div>\n",
              "<style scoped>\n",
              "    .dataframe tbody tr th:only-of-type {\n",
              "        vertical-align: middle;\n",
              "    }\n",
              "\n",
              "    .dataframe tbody tr th {\n",
              "        vertical-align: top;\n",
              "    }\n",
              "\n",
              "    .dataframe thead th {\n",
              "        text-align: right;\n",
              "    }\n",
              "</style>\n",
              "<table border=\"1\" class=\"dataframe\">\n",
              "  <thead>\n",
              "    <tr style=\"text-align: right;\">\n",
              "      <th></th>\n",
              "      <th>Accesibilidad al espacio público abierto</th>\n",
              "      <th>Acceso a Internet</th>\n",
              "      <th>Acceso a agua mejorada</th>\n",
              "      <th>Aglomeración económica</th>\n",
              "      <th>CALIDAD DE VIDA</th>\n",
              "      <th>Calidad del aire</th>\n",
              "      <th>Capacidad institucional y ﬁnanzas municipales</th>\n",
              "      <th>Coeﬁciente de Gini</th>\n",
              "      <th>Concentraciones de material particulado</th>\n",
              "      <th>Concentración de CO2</th>\n",
              "      <th>Crecimiento económico</th>\n",
              "      <th>Densidad de la interconexión vial</th>\n",
              "      <th>Densidad de médicos</th>\n",
              "      <th>Densidad económica</th>\n",
              "      <th>Densidad poblacional</th>\n",
              "      <th>Densidad vial</th>\n",
              "      <th>Desempleo juvenil</th>\n",
              "      <th>Deuda subnacional</th>\n",
              "      <th>EQUIDAD E INCLUSIÓN SOCIAL</th>\n",
              "      <th>Educación</th>\n",
              "      <th>Empleo</th>\n",
              "      <th>Equidad económica</th>\n",
              "      <th>Espacio habitable suﬁciente</th>\n",
              "      <th>Espacio público</th>\n",
              "      <th>Esperanza de vida al nacer</th>\n",
              "      <th>Eﬁciencia del gasto local</th>\n",
              "      <th>Eﬁciencia en el uso de suelo</th>\n",
              "      <th>Fatalidades de tránsito</th>\n",
              "      <th>Forma urbana</th>\n",
              "      <th>GOBERNANZA Y LEGISLACIÓN URBANA</th>\n",
              "      <th>Gobernanza de la urbanización</th>\n",
              "      <th>INFRAESTRUCTURA DE DESARROLLO</th>\n",
              "      <th>Inclusión de género</th>\n",
              "      <th>Inclusión social</th>\n",
              "      <th>Infraestructura de comunicaciones</th>\n",
              "      <th>Infraestructura de vivienda</th>\n",
              "      <th>Infraestructura social</th>\n",
              "      <th>Inscripción equitativa en educación a nivel secundario</th>\n",
              "      <th>Longitud de transporte masivo</th>\n",
              "      <th>Manejo de residuos</th>\n",
              "      <th>Movilidad urbana</th>\n",
              "      <th>Número de estaciones de monitoreo</th>\n",
              "      <th>PRODUCTIVIDAD</th>\n",
              "      <th>Participación electoral</th>\n",
              "      <th>Participación y rendición de cuentas</th>\n",
              "      <th>Producto urbano per cápita</th>\n",
              "      <th>Promedio de años de escolaridad</th>\n",
              "      <th>Recaudación de ingresos propios</th>\n",
              "      <th>Recolección de residuos sólidos</th>\n",
              "      <th>Relación de dependencia de la tercera edad</th>\n",
              "      <th>Relación empleo-población</th>\n",
              "      <th>SOSTENIBILIDAD AMBIENTAL</th>\n",
              "      <th>Salud</th>\n",
              "      <th>Seguridad y protección</th>\n",
              "      <th>Superﬁcie destinada a vías</th>\n",
              "      <th>Tasa de alfabetización</th>\n",
              "      <th>Tasa de desempleo</th>\n",
              "      <th>Tasa de homicidios</th>\n",
              "      <th>Tasa de mortalidad de menores de 5 años</th>\n",
              "      <th>Tasa de pobreza</th>\n",
              "      <th>Tratamiento de aguas residuales</th>\n",
              "      <th>Velocidad de banda ancha promedio</th>\n",
              "      <th>Vivienda durable</th>\n",
              "      <th>Viviendas en barrios precarios</th>\n",
              "      <th>Áreas verdes per cápita</th>\n",
              "    </tr>\n",
              "    <tr>\n",
              "      <th>cluster</th>\n",
              "      <th></th>\n",
              "      <th></th>\n",
              "      <th></th>\n",
              "      <th></th>\n",
              "      <th></th>\n",
              "      <th></th>\n",
              "      <th></th>\n",
              "      <th></th>\n",
              "      <th></th>\n",
              "      <th></th>\n",
              "      <th></th>\n",
              "      <th></th>\n",
              "      <th></th>\n",
              "      <th></th>\n",
              "      <th></th>\n",
              "      <th></th>\n",
              "      <th></th>\n",
              "      <th></th>\n",
              "      <th></th>\n",
              "      <th></th>\n",
              "      <th></th>\n",
              "      <th></th>\n",
              "      <th></th>\n",
              "      <th></th>\n",
              "      <th></th>\n",
              "      <th></th>\n",
              "      <th></th>\n",
              "      <th></th>\n",
              "      <th></th>\n",
              "      <th></th>\n",
              "      <th></th>\n",
              "      <th></th>\n",
              "      <th></th>\n",
              "      <th></th>\n",
              "      <th></th>\n",
              "      <th></th>\n",
              "      <th></th>\n",
              "      <th></th>\n",
              "      <th></th>\n",
              "      <th></th>\n",
              "      <th></th>\n",
              "      <th></th>\n",
              "      <th></th>\n",
              "      <th></th>\n",
              "      <th></th>\n",
              "      <th></th>\n",
              "      <th></th>\n",
              "      <th></th>\n",
              "      <th></th>\n",
              "      <th></th>\n",
              "      <th></th>\n",
              "      <th></th>\n",
              "      <th></th>\n",
              "      <th></th>\n",
              "      <th></th>\n",
              "      <th></th>\n",
              "      <th></th>\n",
              "      <th></th>\n",
              "      <th></th>\n",
              "      <th></th>\n",
              "      <th></th>\n",
              "      <th></th>\n",
              "      <th></th>\n",
              "      <th></th>\n",
              "      <th></th>\n",
              "    </tr>\n",
              "  </thead>\n",
              "  <tbody>\n",
              "    <tr>\n",
              "      <th>0</th>\n",
              "      <td>-0.341900</td>\n",
              "      <td>-0.383173</td>\n",
              "      <td>-0.319858</td>\n",
              "      <td>-0.659945</td>\n",
              "      <td>0.129088</td>\n",
              "      <td>-0.415528</td>\n",
              "      <td>-0.701686</td>\n",
              "      <td>0.018317</td>\n",
              "      <td>-0.532055</td>\n",
              "      <td>0.0</td>\n",
              "      <td>-0.754653</td>\n",
              "      <td>-0.170100</td>\n",
              "      <td>-0.500230</td>\n",
              "      <td>-0.659945</td>\n",
              "      <td>-0.555152</td>\n",
              "      <td>-0.317506</td>\n",
              "      <td>0.048041</td>\n",
              "      <td>-0.420342</td>\n",
              "      <td>-0.333464</td>\n",
              "      <td>-0.866573</td>\n",
              "      <td>-0.802843</td>\n",
              "      <td>-0.613990</td>\n",
              "      <td>0.0</td>\n",
              "      <td>0.511237</td>\n",
              "      <td>-0.032494</td>\n",
              "      <td>-0.360696</td>\n",
              "      <td>0.369476</td>\n",
              "      <td>-0.058966</td>\n",
              "      <td>-0.410225</td>\n",
              "      <td>0.098054</td>\n",
              "      <td>0.369476</td>\n",
              "      <td>-0.366355</td>\n",
              "      <td>0.066264</td>\n",
              "      <td>-0.174813</td>\n",
              "      <td>-0.052818</td>\n",
              "      <td>-0.575189</td>\n",
              "      <td>-0.500230</td>\n",
              "      <td>0.066264</td>\n",
              "      <td>-0.113675</td>\n",
              "      <td>-0.282362</td>\n",
              "      <td>0.265842</td>\n",
              "      <td>0.085767</td>\n",
              "      <td>-0.867626</td>\n",
              "      <td>0.275881</td>\n",
              "      <td>0.275881</td>\n",
              "      <td>-0.667852</td>\n",
              "      <td>-0.885132</td>\n",
              "      <td>-0.658459</td>\n",
              "      <td>-0.429404</td>\n",
              "      <td>-0.394014</td>\n",
              "      <td>-0.858137</td>\n",
              "      <td>-0.024988</td>\n",
              "      <td>0.451120</td>\n",
              "      <td>-0.105361</td>\n",
              "      <td>-0.566755</td>\n",
              "      <td>-0.431845</td>\n",
              "      <td>-0.566114</td>\n",
              "      <td>-0.105361</td>\n",
              "      <td>0.486992</td>\n",
              "      <td>-0.776819</td>\n",
              "      <td>-0.370684</td>\n",
              "      <td>0.866920</td>\n",
              "      <td>-0.265321</td>\n",
              "      <td>-0.214657</td>\n",
              "      <td>0.695902</td>\n",
              "    </tr>\n",
              "    <tr>\n",
              "      <th>1</th>\n",
              "      <td>0.260871</td>\n",
              "      <td>0.292363</td>\n",
              "      <td>0.244054</td>\n",
              "      <td>0.503542</td>\n",
              "      <td>-0.098495</td>\n",
              "      <td>0.317051</td>\n",
              "      <td>0.535390</td>\n",
              "      <td>-0.013976</td>\n",
              "      <td>0.405961</td>\n",
              "      <td>0.0</td>\n",
              "      <td>0.575805</td>\n",
              "      <td>0.129787</td>\n",
              "      <td>0.381679</td>\n",
              "      <td>0.503542</td>\n",
              "      <td>0.423584</td>\n",
              "      <td>0.242259</td>\n",
              "      <td>-0.036655</td>\n",
              "      <td>0.320723</td>\n",
              "      <td>0.254435</td>\n",
              "      <td>0.661200</td>\n",
              "      <td>0.612573</td>\n",
              "      <td>0.468478</td>\n",
              "      <td>0.0</td>\n",
              "      <td>-0.390077</td>\n",
              "      <td>0.024793</td>\n",
              "      <td>0.275213</td>\n",
              "      <td>-0.281912</td>\n",
              "      <td>0.044991</td>\n",
              "      <td>0.313004</td>\n",
              "      <td>-0.074816</td>\n",
              "      <td>-0.281912</td>\n",
              "      <td>0.279531</td>\n",
              "      <td>-0.050560</td>\n",
              "      <td>0.133383</td>\n",
              "      <td>0.040301</td>\n",
              "      <td>0.438872</td>\n",
              "      <td>0.381679</td>\n",
              "      <td>-0.050560</td>\n",
              "      <td>0.086735</td>\n",
              "      <td>0.215444</td>\n",
              "      <td>-0.202839</td>\n",
              "      <td>-0.065441</td>\n",
              "      <td>0.662004</td>\n",
              "      <td>-0.210499</td>\n",
              "      <td>-0.210499</td>\n",
              "      <td>0.509575</td>\n",
              "      <td>0.675361</td>\n",
              "      <td>0.502408</td>\n",
              "      <td>0.327638</td>\n",
              "      <td>0.300635</td>\n",
              "      <td>0.654764</td>\n",
              "      <td>0.019066</td>\n",
              "      <td>-0.344207</td>\n",
              "      <td>0.080391</td>\n",
              "      <td>0.432438</td>\n",
              "      <td>0.329500</td>\n",
              "      <td>0.431948</td>\n",
              "      <td>0.080391</td>\n",
              "      <td>-0.371578</td>\n",
              "      <td>0.592717</td>\n",
              "      <td>0.282834</td>\n",
              "      <td>-0.661465</td>\n",
              "      <td>0.202441</td>\n",
              "      <td>0.163784</td>\n",
              "      <td>-0.530977</td>\n",
              "    </tr>\n",
              "  </tbody>\n",
              "</table>\n",
              "</div>"
            ],
            "text/plain": [
              "         Accesibilidad al espacio público abierto  ...  Áreas verdes per cápita\n",
              "cluster                                            ...                         \n",
              "0                                       -0.341900  ...                 0.695902\n",
              "1                                        0.260871  ...                -0.530977\n",
              "\n",
              "[2 rows x 65 columns]"
            ]
          },
          "metadata": {},
          "execution_count": 50
        }
      ]
    }
  ]
}